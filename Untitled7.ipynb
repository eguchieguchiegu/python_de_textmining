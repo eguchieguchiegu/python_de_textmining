{
  "nbformat": 4,
  "nbformat_minor": 0,
  "metadata": {
    "colab": {
      "provenance": [],
      "authorship_tag": "ABX9TyMrLEdBhdGLIkhbMAia8aOo",
      "include_colab_link": true
    },
    "kernelspec": {
      "name": "python3",
      "display_name": "Python 3"
    },
    "language_info": {
      "name": "python"
    }
  },
  "cells": [
    {
      "cell_type": "markdown",
      "metadata": {
        "id": "view-in-github",
        "colab_type": "text"
      },
      "source": [
        "<a href=\"https://colab.research.google.com/github/eguchieguchiegu/python_de_textmining/blob/main/Untitled7.ipynb\" target=\"_parent\"><img src=\"https://colab.research.google.com/assets/colab-badge.svg\" alt=\"Open In Colab\"/></a>"
      ]
    },
    {
      "cell_type": "code",
      "execution_count": 2,
      "metadata": {
        "colab": {
          "base_uri": "https://localhost:8080/"
        },
        "id": "tXdPFakDzCY_",
        "outputId": "c46e299e-f9cc-4d17-871a-001bdb22d609"
      },
      "outputs": [
        {
          "output_type": "stream",
          "name": "stdout",
          "text": [
            "Drive already mounted at /content/drive; to attempt to forcibly remount, call drive.mount(\"/content/drive\", force_remount=True).\n",
            "<html>\n",
            "<body>\n",
            "    これは<a href=\"https://www.socu.ac.jp/\">山口東京理科大学のHP</a>です．<br/>\n",
            "    続いて<a href=\"https://www.city.sanyo-onoda.lg.jp/\">山陽小野田市のHP</a>です．<br/>\n",
            "</body>\n",
            "</html>\n",
            "-------------------------------------\n",
            "これは山口東京理科大学のHPです．続いて山陽小野田市のHPです．\n"
          ]
        }
      ],
      "source": [
        "from google.colab import drive\n",
        "drive.mount('/content/drive')\n",
        "\n",
        "filename = \"/content/drive/MyDrive/shizengengo/data3-1.html\"\n",
        "\n",
        "from bs4 import BeautifulSoup\n",
        "\n",
        "def clean_html(fileaname, strip = False):\n",
        "  html = open(filename,'r')\n",
        "  soup = BeautifulSoup(html, 'html.parser')\n",
        "  print(soup)\n",
        "  text = soup.get_text(strip = strip)\n",
        "  return text\n",
        "\n",
        "text = clean_html(filename, strip = True)\n",
        "print(\"-------------------------------------\")\n",
        "print(text)"
      ]
    },
    {
      "cell_type": "code",
      "source": [
        "from google.colab import drive\n",
        "drive.mount('/content/drive')\n",
        "\n",
        "filename = \"/content/drive/MyDrive/shizengengo/data3-1.html\"\n",
        "\n",
        "from bs4 import BeautifulSoup\n",
        "\n",
        "def clean_html(fileaname, strip = False):\n",
        "  html = open(filename,'r')\n",
        "  soup = BeautifulSoup(html, 'html.parser')\n",
        "  print(soup)\n",
        "  text = soup.get_text(strip = strip)\n",
        "  return text\n",
        "\n",
        "text = clean_html(filename, strip = False)\n",
        "print(\"-------------------------------------\")\n",
        "print(text)"
      ],
      "metadata": {
        "colab": {
          "base_uri": "https://localhost:8080/"
        },
        "id": "0UaIRd0g00gt",
        "outputId": "3f129e2d-c9f6-4ef7-8df5-9adea5a631eb"
      },
      "execution_count": 1,
      "outputs": [
        {
          "output_type": "stream",
          "name": "stdout",
          "text": [
            "Mounted at /content/drive\n",
            "<html>\n",
            "<body>\n",
            "    これは<a href=\"https://www.socu.ac.jp/\">山口東京理科大学のHP</a>です．<br/>\n",
            "    続いて<a href=\"https://www.city.sanyo-onoda.lg.jp/\">山陽小野田市のHP</a>です．<br/>\n",
            "</body>\n",
            "</html>\n",
            "-------------------------------------\n",
            "\n",
            "\n",
            "    これは山口東京理科大学のHPです．\n",
            "    続いて山陽小野田市のHPです．\n",
            "\n",
            "\n"
          ]
        }
      ]
    },
    {
      "cell_type": "code",
      "source": [
        "import re\n",
        "\n",
        "def clean_hashtag(text):\n",
        "  text = re.sub('#[a-zA-Z]+', '',text)\n",
        "  return text\n",
        "\n",
        "text = \"今日からPythonプログラムを勉強しよう! #python\"\n",
        "\n",
        "cleaned_text = clean_hashtag(text)\n",
        "\n",
        "print(text)\n",
        "print(cleaned_text)"
      ],
      "metadata": {
        "colab": {
          "base_uri": "https://localhost:8080/"
        },
        "id": "Zqf2iRkm25U0",
        "outputId": "d6d79e93-a9a5-40e8-a595-10a20c18828e"
      },
      "execution_count": 3,
      "outputs": [
        {
          "output_type": "stream",
          "name": "stdout",
          "text": [
            "今日からPythonプログラムを勉強しよう! #python\n",
            "今日からPythonプログラムを勉強しよう! \n"
          ]
        }
      ]
    }
  ]
}