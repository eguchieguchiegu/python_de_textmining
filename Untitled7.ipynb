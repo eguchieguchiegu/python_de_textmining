{
  "nbformat": 4,
  "nbformat_minor": 0,
  "metadata": {
    "colab": {
      "provenance": [],
      "authorship_tag": "ABX9TyNMBez4oR6QeUP6HpDoxdem",
      "include_colab_link": true
    },
    "kernelspec": {
      "name": "python3",
      "display_name": "Python 3"
    },
    "language_info": {
      "name": "python"
    }
  },
  "cells": [
    {
      "cell_type": "markdown",
      "metadata": {
        "id": "view-in-github",
        "colab_type": "text"
      },
      "source": [
        "<a href=\"https://colab.research.google.com/github/eguchieguchiegu/python_de_textmining/blob/main/Untitled7.ipynb\" target=\"_parent\"><img src=\"https://colab.research.google.com/assets/colab-badge.svg\" alt=\"Open In Colab\"/></a>"
      ]
    },
    {
      "cell_type": "code",
      "execution_count": null,
      "metadata": {
        "colab": {
          "base_uri": "https://localhost:8080/"
        },
        "id": "tXdPFakDzCY_",
        "outputId": "c46e299e-f9cc-4d17-871a-001bdb22d609"
      },
      "outputs": [
        {
          "output_type": "stream",
          "name": "stdout",
          "text": [
            "Drive already mounted at /content/drive; to attempt to forcibly remount, call drive.mount(\"/content/drive\", force_remount=True).\n",
            "<html>\n",
            "<body>\n",
            "    これは<a href=\"https://www.socu.ac.jp/\">山口東京理科大学のHP</a>です．<br/>\n",
            "    続いて<a href=\"https://www.city.sanyo-onoda.lg.jp/\">山陽小野田市のHP</a>です．<br/>\n",
            "</body>\n",
            "</html>\n",
            "-------------------------------------\n",
            "これは山口東京理科大学のHPです．続いて山陽小野田市のHPです．\n"
          ]
        }
      ],
      "source": [
        "from google.colab import drive\n",
        "drive.mount('/content/drive')\n",
        "\n",
        "filename = \"/content/drive/MyDrive/shizengengo/data3-1.html\"\n",
        "\n",
        "from bs4 import BeautifulSoup\n",
        "\n",
        "def clean_html(fileaname, strip = False):\n",
        "  html = open(filename,'r')\n",
        "  soup = BeautifulSoup(html, 'html.parser')\n",
        "  print(soup)\n",
        "  text = soup.get_text(strip = strip)\n",
        "  return text\n",
        "\n",
        "text = clean_html(filename, strip = True)\n",
        "print(\"-------------------------------------\")\n",
        "print(text)"
      ]
    },
    {
      "cell_type": "code",
      "source": [
        "from google.colab import drive\n",
        "drive.mount('/content/drive')\n",
        "\n",
        "filename = \"/content/drive/MyDrive/shizengengo/data3-1.html\"\n",
        "\n",
        "from bs4 import BeautifulSoup\n",
        "\n",
        "def clean_html(fileaname, strip = False):\n",
        "  html = open(filename,'r')\n",
        "  soup = BeautifulSoup(html, 'html.parser')\n",
        "  print(soup)\n",
        "  text = soup.get_text(strip = strip)\n",
        "  return text\n",
        "\n",
        "text = clean_html(filename, strip = False)\n",
        "print(\"-------------------------------------\")\n",
        "print(text)"
      ],
      "metadata": {
        "colab": {
          "base_uri": "https://localhost:8080/"
        },
        "id": "0UaIRd0g00gt",
        "outputId": "3f129e2d-c9f6-4ef7-8df5-9adea5a631eb"
      },
      "execution_count": null,
      "outputs": [
        {
          "output_type": "stream",
          "name": "stdout",
          "text": [
            "Mounted at /content/drive\n",
            "<html>\n",
            "<body>\n",
            "    これは<a href=\"https://www.socu.ac.jp/\">山口東京理科大学のHP</a>です．<br/>\n",
            "    続いて<a href=\"https://www.city.sanyo-onoda.lg.jp/\">山陽小野田市のHP</a>です．<br/>\n",
            "</body>\n",
            "</html>\n",
            "-------------------------------------\n",
            "\n",
            "\n",
            "    これは山口東京理科大学のHPです．\n",
            "    続いて山陽小野田市のHPです．\n",
            "\n",
            "\n"
          ]
        }
      ]
    },
    {
      "cell_type": "code",
      "source": [
        "import re\n",
        "\n",
        "def clean_hashtag(text):\n",
        "  text = re.sub('#[a-zA-Z]+', '',text)\n",
        "  return text\n",
        "\n",
        "text = \"今日からPythonプログラムを勉強しよう! #えぐち\"\n",
        "\n",
        "cleaned_text = clean_hashtag(text)\n",
        "\n",
        "print(text)\n",
        "print(cleaned_text)"
      ],
      "metadata": {
        "colab": {
          "base_uri": "https://localhost:8080/"
        },
        "id": "Zqf2iRkm25U0",
        "outputId": "85384a87-633c-4925-c220-033d98b03748"
      },
      "execution_count": 2,
      "outputs": [
        {
          "output_type": "stream",
          "name": "stdout",
          "text": [
            "今日からPythonプログラムを勉強しよう! #えぐち\n",
            "今日からPythonプログラムを勉強しよう! #えぐち\n"
          ]
        }
      ]
    },
    {
      "cell_type": "code",
      "source": [
        "text = 'Mother Fucker!'\n",
        "\n",
        "lower_text = text.lower()\n",
        "print(lower_text)\n",
        "\n",
        "upper_text = text.upper()\n",
        "print(upper_text)"
      ],
      "metadata": {
        "colab": {
          "base_uri": "https://localhost:8080/"
        },
        "id": "J0K2ddh52otQ",
        "outputId": "af842e81-b10c-43e8-c082-f5eef5fa48bb"
      },
      "execution_count": null,
      "outputs": [
        {
          "output_type": "stream",
          "name": "stdout",
          "text": [
            "mother fucker!\n",
            "MOTHER FUCKER!\n"
          ]
        }
      ]
    },
    {
      "cell_type": "code",
      "source": [
        "text = 'YOKOKAWA IS BIG!'\n",
        "\n",
        "title_text = text.title()\n",
        "print(title_text)"
      ],
      "metadata": {
        "colab": {
          "base_uri": "https://localhost:8080/"
        },
        "id": "1wqLHKL73CM5",
        "outputId": "412a923a-d28c-4167-edf6-0e5393d524ad"
      },
      "execution_count": null,
      "outputs": [
        {
          "output_type": "stream",
          "name": "stdout",
          "text": [
            "Yokokawa Is Big!\n"
          ]
        }
      ]
    },
    {
      "cell_type": "code",
      "source": [
        "import re\n",
        "\n",
        "def normalize_number(text):\n",
        "  text = re.sub('\\d+', '0', text)\n",
        "  return text\n",
        "text = \"先週の体重は105.5㎏だったが、今日は20㎏減って85.5㎏となった。\"\n",
        "\n",
        "normalized_text = normalize_number(text)\n",
        "print(normalized_text)"
      ],
      "metadata": {
        "colab": {
          "base_uri": "https://localhost:8080/"
        },
        "id": "YdbWZcci3lhE",
        "outputId": "f1445705-47a3-40f1-85af-57d473e3555a"
      },
      "execution_count": null,
      "outputs": [
        {
          "output_type": "stream",
          "name": "stdout",
          "text": [
            "先週の体重は0.0㎏だったが、今日は0㎏減って0.0㎏となった。\n"
          ]
        }
      ]
    },
    {
      "cell_type": "code",
      "source": [
        "import re\n",
        "\n",
        "def normalized_number(text):\n",
        "  text = re.sub('\\d', '0', text)\n",
        "  return text\n",
        "\n",
        "text = \"先週の体重は105.5kgだったが、今日は20kg減って85.5kgとなった。\"\n",
        "\n",
        "normalized_text = normalized_number(text)\n",
        "print(normalized_text)"
      ],
      "metadata": {
        "colab": {
          "base_uri": "https://localhost:8080/"
        },
        "id": "9WVsdP2D4wT5",
        "outputId": "64090673-c22a-49ab-82ff-c8eebcf05d90"
      },
      "execution_count": null,
      "outputs": [
        {
          "output_type": "stream",
          "name": "stdout",
          "text": [
            "先週の体重は000.0kgだったが、今日は00kg減って00.0kgとなった。\n"
          ]
        }
      ]
    },
    {
      "cell_type": "code",
      "source": [
        "from google.colab import drive\n",
        "drive.mount('/content/drive')\n",
        "\n",
        "filename = \"/content/drive/MyDrive/shizengengo/Japanese.txt\"\n",
        "\n",
        "with open(filename, 'r', encoding = 'utf-8') as f:\n",
        "  stopwords = [w.strip() for w in f]\n",
        "  stopwords = set(stopwords)\n",
        "\n",
        "def remove_stopwords(words, stopwords):\n",
        "  words = [w for w in words if w not in stopwords]\n",
        "  return words\n",
        "!pip install janome\n",
        "from janome.tokenizer import Tokenizer\n",
        "\n",
        "t = Tokenizer(wakati = True)\n",
        "\n",
        "text = '彼はリンゴをいくつか買う'\n",
        "\n",
        "words = t.tokenize(text)\n",
        "\n",
        "tokens = remove_stopwords(words, stopwords)\n",
        "\n",
        "for token in tokens:\n",
        "  print(token)\n",
        "print(\"----------------------------------\")"
      ],
      "metadata": {
        "colab": {
          "base_uri": "https://localhost:8080/"
        },
        "id": "xRVvWfpe5b-y",
        "outputId": "6aa94a05-2e6c-42cd-fb8b-db5db59cc59e"
      },
      "execution_count": 1,
      "outputs": [
        {
          "output_type": "stream",
          "name": "stdout",
          "text": [
            "Mounted at /content/drive\n",
            "Collecting janome\n",
            "  Downloading Janome-0.5.0-py2.py3-none-any.whl.metadata (2.6 kB)\n",
            "Downloading Janome-0.5.0-py2.py3-none-any.whl (19.7 MB)\n",
            "\u001b[2K   \u001b[90m━━━━━━━━━━━━━━━━━━━━━━━━━━━━━━━━━━━━━━━━\u001b[0m \u001b[32m19.7/19.7 MB\u001b[0m \u001b[31m37.4 MB/s\u001b[0m eta \u001b[36m0:00:00\u001b[0m\n",
            "\u001b[?25hInstalling collected packages: janome\n",
            "Successfully installed janome-0.5.0\n",
            "は\n",
            "リンゴ\n",
            "を\n",
            "か\n",
            "買う\n",
            "----------------------------------\n"
          ]
        }
      ]
    },
    {
      "cell_type": "code",
      "source": [
        "from google.colab import drive\n",
        "drive.mount('/content/drive')\n",
        "\n",
        "filename = \"/content/drive/MyDrive/shizengengo/ja.text8\"\n",
        "\n",
        "with open(filename, 'r', encoding = 'utf-8') as f:\n",
        "  text = f.read()\n",
        "  words = text.split()\n",
        "\n",
        "from collections import Counter\n",
        "\n",
        "fdist = Counter(words)\n",
        "\n",
        "fdist.most_common(30)"
      ],
      "metadata": {
        "colab": {
          "base_uri": "https://localhost:8080/"
        },
        "id": "uH2ayMFn-q0S",
        "outputId": "c8ca949f-a8d6-49ba-eeb7-ee3d46c02707"
      },
      "execution_count": null,
      "outputs": [
        {
          "output_type": "stream",
          "name": "stdout",
          "text": [
            "Drive already mounted at /content/drive; to attempt to forcibly remount, call drive.mount(\"/content/drive\", force_remount=True).\n"
          ]
        },
        {
          "output_type": "execute_result",
          "data": {
            "text/plain": [
              "[('の', 828585),\n",
              " ('、', 785716),\n",
              " ('。', 532921),\n",
              " ('に', 527014),\n",
              " ('は', 488009),\n",
              " ('を', 423115),\n",
              " ('た', 421908),\n",
              " ('が', 353221),\n",
              " ('で', 350821),\n",
              " ('て', 259995),\n",
              " ('と', 257633),\n",
              " ('し', 245192),\n",
              " ('年', 203666),\n",
              " ('（', 156882),\n",
              " ('）', 155856),\n",
              " ('れ', 150525),\n",
              " ('さ', 141203),\n",
              " ('ある', 111627),\n",
              " ('いる', 103522),\n",
              " ('する', 101699),\n",
              " ('・', 100631),\n",
              " ('も', 98929),\n",
              " ('「', 91911),\n",
              " ('」', 90625),\n",
              " ('月', 85029),\n",
              " ('から', 82015),\n",
              " ('こと', 66697),\n",
              " ('日', 64609),\n",
              " ('な', 59775),\n",
              " ('い', 54063)]"
            ]
          },
          "metadata": {},
          "execution_count": 17
        }
      ]
    }
  ]
}